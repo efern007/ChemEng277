version https://git-lfs.github.com/spec/v1
oid sha256:efb9b1736846926e2fd14b245449fae7ced3bce053597ac5ca7b6135dacd87eb
size 383
